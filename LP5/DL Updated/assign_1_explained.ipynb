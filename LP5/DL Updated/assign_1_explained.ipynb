{
 "cells": [
  {
   "cell_type": "markdown",
   "id": "52f716a3",
   "metadata": {},
   "source": [
    "# Import Required Libraries\n",
    "Import libraries such as NumPy, Pandas, Matplotlib, and TensorFlow/Keras."
   ]
  },
  {
   "cell_type": "code",
   "execution_count": null,
   "id": "2fc04703",
   "metadata": {},
   "outputs": [],
   "source": [
    "# Import Required Libraries\n",
    "import numpy as np\n",
    "import pandas as pd\n",
    "import matplotlib.pyplot as plt\n",
    "import tensorflow as tf\n",
    "from tensorflow.keras.models import Sequential\n",
    "from tensorflow.keras.layers import Dense"
   ]
  },
  {
   "cell_type": "markdown",
   "id": "01078d2b",
   "metadata": {},
   "source": [
    "# Load and Inspect the Dataset\n",
    "Load the Boston housing dataset using Pandas and inspect its structure using functions like `head()` and `info()`."
   ]
  },
  {
   "cell_type": "code",
   "execution_count": null,
   "id": "3019ed0a",
   "metadata": {},
   "outputs": [],
   "source": [
    "# Load and Inspect the Dataset\n",
    "df = pd.read_csv(\"./HousingData.csv\")\n",
    "print(df.head())\n",
    "print(df.info())"
   ]
  },
  {
   "cell_type": "markdown",
   "id": "c93fdf46",
   "metadata": {},
   "source": [
    "# Handle Null Values\n",
    "Identify and handle null values using techniques like imputation or dropping rows/columns."
   ]
  },
  {
   "cell_type": "code",
   "execution_count": null,
   "id": "a077ba0c",
   "metadata": {},
   "outputs": [],
   "source": [
    "# Handle Null Values\n",
    "print(\"Null values per column:\\n\", df.isnull().sum())\n",
    "df.fillna(df.mean(), inplace=True)  # Impute missing values with column mean"
   ]
  },
  {
   "cell_type": "markdown",
   "id": "01d6013d",
   "metadata": {},
   "source": [
    "# Split the Dataset into Features and Target\n",
    "Separate the dataset into input features (X) and the target variable (y)."
   ]
  },
  {
   "cell_type": "code",
   "execution_count": null,
   "id": "24619597",
   "metadata": {},
   "outputs": [],
   "source": [
    "# Split the Dataset into Features and Target\n",
    "X = df.drop(columns=[\"MEDV\"])  # Assuming 'MEDV' is the target column\n",
    "y = df[\"MEDV\"]"
   ]
  },
  {
   "cell_type": "markdown",
   "id": "2b70d661",
   "metadata": {},
   "source": [
    "# Normalize the Data\n",
    "Normalize the feature data to ensure all values are on a similar scale."
   ]
  },
  {
   "cell_type": "code",
   "execution_count": null,
   "id": "cfe59bec",
   "metadata": {},
   "outputs": [],
   "source": [
    "# Normalize the Data\n",
    "from sklearn.preprocessing import StandardScaler\n",
    "scaler = StandardScaler()\n",
    "X_scaled = scaler.fit_transform(X)"
   ]
  },
  {
   "cell_type": "markdown",
   "id": "80b38f51",
   "metadata": {},
   "source": [
    "# Split the Data into Training and Testing Sets\n",
    "Use `train_test_split` from sklearn to split the data into training and testing sets."
   ]
  },
  {
   "cell_type": "code",
   "execution_count": null,
   "id": "9b7b32d2",
   "metadata": {},
   "outputs": [],
   "source": [
    "# Split the Data into Training and Testing Sets\n",
    "from sklearn.model_selection import train_test_split\n",
    "X_train, X_test, y_train, y_test = train_test_split(X_scaled, y, test_size=0.2, random_state=42)"
   ]
  },
  {
   "cell_type": "markdown",
   "id": "532ab153",
   "metadata": {},
   "source": [
    "# Build the Neural Network Model\n",
    "Use TensorFlow/Keras to define a sequential model for linear regression."
   ]
  },
  {
   "cell_type": "code",
   "execution_count": null,
   "id": "0fc3ae9a",
   "metadata": {},
   "outputs": [],
   "source": [
    "# Build the Neural Network Model\n",
    "model = Sequential([\n",
    "    Dense(64, activation=\"relu\", input_shape=(X_train.shape[1],)),\n",
    "    Dense(32, activation=\"relu\"),\n",
    "    Dense(1)  # Output layer for regression\n",
    "])"
   ]
  },
  {
   "cell_type": "markdown",
   "id": "5cce7ea9",
   "metadata": {},
   "source": [
    "# Train the Model\n",
    "Compile and train the model using the training data."
   ]
  },
  {
   "cell_type": "code",
   "execution_count": null,
   "id": "2359ea9f",
   "metadata": {},
   "outputs": [],
   "source": [
    "# Train the Model\n",
    "model.compile(optimizer=\"adam\", loss=\"mse\", metrics=[\"mae\"])\n",
    "history = model.fit(X_train, y_train, validation_split=0.2, epochs=100, batch_size=32, verbose=1)"
   ]
  },
  {
   "cell_type": "markdown",
   "id": "7ce4e581",
   "metadata": {},
   "source": [
    "# Evaluate the Model\n",
    "Evaluate the model's performance on the testing data using metrics like Mean Squared Error (MSE)."
   ]
  },
  {
   "cell_type": "code",
   "execution_count": null,
   "id": "34a372a1",
   "metadata": {},
   "outputs": [],
   "source": [
    "# Evaluate the Model\n",
    "loss, mae = model.evaluate(X_test, y_test, verbose=0)\n",
    "print(f\"Mean Absolute Error on Test Data: {mae}\")"
   ]
  },
  {
   "cell_type": "markdown",
   "id": "1bed85d8",
   "metadata": {},
   "source": [
    "# Make Predictions\n",
    "Use the trained model to make predictions on new data and visualize the results."
   ]
  },
  {
   "cell_type": "code",
   "execution_count": null,
   "id": "607fae08",
   "metadata": {},
   "outputs": [],
   "source": [
    "# Make Predictions\n",
    "y_pred = model.predict(X_test)\n",
    "plt.scatter(y_test, y_pred)\n",
    "plt.xlabel(\"Actual Values\")\n",
    "plt.ylabel(\"Predicted Values\")\n",
    "plt.title(\"Actual vs Predicted Values\")\n",
    "plt.show()"
   ]
  }
 ],
 "metadata": {
  "language_info": {
   "name": "python"
  }
 },
 "nbformat": 4,
 "nbformat_minor": 5
}
